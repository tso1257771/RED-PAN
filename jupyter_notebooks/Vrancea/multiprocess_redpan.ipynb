{
 "cells": [
  {
   "cell_type": "code",
   "execution_count": null,
   "id": "5fa71ae4",
   "metadata": {},
   "outputs": [
    {
     "name": "stderr",
     "output_type": "stream",
     "text": [
      "2025-08-11 17:06:06.439299: I tensorflow/core/platform/cpu_feature_guard.cc:193] This TensorFlow binary is optimized with oneAPI Deep Neural Network Library (oneDNN) to use the following CPU instructions in performance-critical operations:  AVX2 AVX512F FMA\n",
      "To enable them in other operations, rebuild TensorFlow with the appropriate compiler flags.\n",
      "2025-08-11 17:06:06.447458: I tensorflow/core/platform/cpu_feature_guard.cc:193] This TensorFlow binary is optimized with oneAPI Deep Neural Network Library (oneDNN) to use the following CPU instructions in performance-critical operations:  AVX2 AVX512F FMA\n",
      "To enable them in other operations, rebuild TensorFlow with the appropriate compiler flags.\n",
      "2025-08-11 17:06:06.450838: I tensorflow/core/platform/cpu_feature_guard.cc:193] This TensorFlow binary is optimized with oneAPI Deep Neural Network Library (oneDNN) to use the following CPU instructions in performance-critical operations:  AVX2 AVX512F FMA\n",
      "To enable them in other operations, rebuild TensorFlow with the appropriate compiler flags.\n",
      "2025-08-11 17:06:06.595467: E tensorflow/stream_executor/cuda/cuda_blas.cc:2981] Unable to register cuBLAS factory: Attempting to register factory for plugin cuBLAS when one has already been registered\n",
      "2025-08-11 17:06:06.596879: E tensorflow/stream_executor/cuda/cuda_blas.cc:2981] Unable to register cuBLAS factory: Attempting to register factory for plugin cuBLAS when one has already been registered\n",
      "2025-08-11 17:06:06.604439: E tensorflow/stream_executor/cuda/cuda_blas.cc:2981] Unable to register cuBLAS factory: Attempting to register factory for plugin cuBLAS when one has already been registered\n",
      "/home/rick/anaconda3/envs/redpan/lib/python3.10/site-packages/obspy/core/util/base.py:26: UserWarning: pkg_resources is deprecated as an API. See https://setuptools.pypa.io/en/latest/pkg_resources.html. The pkg_resources package is slated for removal as early as 2025-11-30. Refrain from using this package or pin to Setuptools<81.\n",
      "  import pkg_resources\n",
      "/home/rick/anaconda3/envs/redpan/lib/python3.10/site-packages/obspy/core/util/base.py:26: UserWarning: pkg_resources is deprecated as an API. See https://setuptools.pypa.io/en/latest/pkg_resources.html. The pkg_resources package is slated for removal as early as 2025-11-30. Refrain from using this package or pin to Setuptools<81.\n",
      "  import pkg_resources\n",
      "/home/rick/anaconda3/envs/redpan/lib/python3.10/site-packages/obspy/core/util/base.py:26: UserWarning: pkg_resources is deprecated as an API. See https://setuptools.pypa.io/en/latest/pkg_resources.html. The pkg_resources package is slated for removal as early as 2025-11-30. Refrain from using this package or pin to Setuptools<81.\n",
      "  import pkg_resources\n",
      "2025-08-11 17:06:08.958996: I tensorflow/core/platform/cpu_feature_guard.cc:193] This TensorFlow binary is optimized with oneAPI Deep Neural Network Library (oneDNN) to use the following CPU instructions in performance-critical operations:  AVX2 AVX512F FMA\n",
      "To enable them in other operations, rebuild TensorFlow with the appropriate compiler flags.\n",
      "2025-08-11 17:06:09.180688: I tensorflow/core/platform/cpu_feature_guard.cc:193] This TensorFlow binary is optimized with oneAPI Deep Neural Network Library (oneDNN) to use the following CPU instructions in performance-critical operations:  AVX2 AVX512F FMA\n",
      "To enable them in other operations, rebuild TensorFlow with the appropriate compiler flags.\n",
      "2025-08-11 17:06:09.189021: I tensorflow/core/platform/cpu_feature_guard.cc:193] This TensorFlow binary is optimized with oneAPI Deep Neural Network Library (oneDNN) to use the following CPU instructions in performance-critical operations:  AVX2 AVX512F FMA\n",
      "To enable them in other operations, rebuild TensorFlow with the appropriate compiler flags.\n",
      "2025-08-11 17:06:09.607178: I tensorflow/core/common_runtime/gpu/gpu_device.cc:1616] Created device /job:localhost/replica:0/task:0/device:GPU:0 with 8217 MB memory:  -> device: 0, name: NVIDIA GeForce RTX 2080 Ti, pci bus id: 0000:65:00.0, compute capability: 7.5\n",
      "2025-08-11 17:06:09.852472: I tensorflow/core/common_runtime/gpu/gpu_device.cc:1616] Created device /job:localhost/replica:0/task:0/device:GPU:0 with 8061 MB memory:  -> device: 0, name: NVIDIA GeForce RTX 2080 Ti, pci bus id: 0000:65:00.0, compute capability: 7.5\n",
      "2025-08-11 17:06:09.882346: I tensorflow/core/common_runtime/gpu/gpu_device.cc:1616] Created device /job:localhost/replica:0/task:0/device:GPU:0 with 8061 MB memory:  -> device: 0, name: NVIDIA GeForce RTX 2080 Ti, pci bus id: 0000:65:00.0, compute capability: 7.5\n",
      "INFO : 2025-08-11 17:06:16,401 : REDPAN initialized: pred_npts=6000, batch_size=16\n",
      "INFO : 2025-08-11 17:06:16,565 : Created REDPAN engine with batch_size=16\n",
      "INFO : 2025-08-11 17:06:16,567 : Processing outputs/SAC/2016.267/RO.PLOR2..HH?.sac: 1/8 | Directory: 1/3\n",
      "INFO : 2025-08-11 17:06:16,567 : outputs/redpan_picks/2016/267/picks_RO.PLOR2..HH.csv file exists, skip.\n",
      "INFO : 2025-08-11 17:06:16,567 : Processing outputs/SAC/2016.267/RO.SULR..HH?.sac: 2/8 | Directory: 1/3\n"
     ]
    },
    {
     "name": "stdout",
     "output_type": "stream",
     "text": [
      "Directory: 1/3: outputs/SAC/2016.267\n"
     ]
    },
    {
     "name": "stderr",
     "output_type": "stream",
     "text": [
      "INFO : 2025-08-11 17:06:16,802 : REDPAN initialized: pred_npts=6000, batch_size=16\n",
      "INFO : 2025-08-11 17:06:16,802 : REDPAN initialized: pred_npts=6000, batch_size=16\n",
      "INFO : 2025-08-11 17:06:16,965 : Created REDPAN engine with batch_size=16\n",
      "INFO : 2025-08-11 17:06:16,967 : Processing outputs/SAC/2016.267/RO.SLCR..HH?.sac: 1/8 | Directory: 1/3\n",
      "INFO : 2025-08-11 17:06:16,975 : Created REDPAN engine with batch_size=16\n",
      "INFO : 2025-08-11 17:06:16,976 : Processing outputs/SAC/2016.267/RO.PLOR..EH?.sac: 1/7 | Directory: 1/3\n"
     ]
    },
    {
     "name": "stdout",
     "output_type": "stream",
     "text": [
      "Directory: 1/3: outputs/SAC/2016.267\n",
      "Directory: 1/3: outputs/SAC/2016.267\n"
     ]
    },
    {
     "name": "stderr",
     "output_type": "stream",
     "text": [
      "2025-08-11 17:06:32.572765: I tensorflow/stream_executor/cuda/cuda_dnn.cc:384] Loaded cuDNN version 8801\n",
      "2025-08-11 17:06:32.714415: I tensorflow/stream_executor/cuda/cuda_dnn.cc:384] Loaded cuDNN version 8801\n",
      "2025-08-11 17:06:32.807254: I tensorflow/stream_executor/cuda/cuda_dnn.cc:384] Loaded cuDNN version 8801\n"
     ]
    },
    {
     "name": "stdout",
     "output_type": "stream",
     "text": [
      "Time taken for prediction: 92.579974\n",
      "Time taken for prediction: 92.875915\n"
     ]
    },
    {
     "name": "stderr",
     "output_type": "stream",
     "text": [
      "INFO : 2025-08-11 17:07:50,311 : Saved picks to outputs/redpan_picks/2016/267/picks_RO.PLOR..EH.csv\n",
      "INFO : 2025-08-11 17:07:50,312 : Memory usage at after processing: 4274.4 MB\n",
      "INFO : 2025-08-11 17:07:50,312 : Processing outputs/SAC/2016.267/RO.GHRR..HN?.sac: 2/7 | Directory: 1/3\n",
      "INFO : 2025-08-11 17:07:50,325 : Saved picks to outputs/redpan_picks/2016/267/picks_RO.SULR..HH.csv\n",
      "INFO : 2025-08-11 17:07:50,326 : Memory usage at after processing: 4275.2 MB\n",
      "INFO : 2025-08-11 17:07:50,326 : Processing outputs/SAC/2016.267/RO.PLOR1..HH?.sac: 3/8 | Directory: 1/3\n",
      "INFO : 2025-08-11 17:07:50,326 : outputs/redpan_picks/2016/267/picks_RO.PLOR1..HH.csv file exists, skip.\n",
      "INFO : 2025-08-11 17:07:50,326 : Processing outputs/SAC/2016.267/RO.MLR..HN?.sac: 4/8 | Directory: 1/3\n"
     ]
    },
    {
     "name": "stdout",
     "output_type": "stream",
     "text": [
      "Time taken for prediction: 93.01081\n"
     ]
    },
    {
     "name": "stderr",
     "output_type": "stream",
     "text": [
      "INFO : 2025-08-11 17:07:50,839 : Saved picks to outputs/redpan_picks/2016/267/picks_RO.SLCR..HH.csv\n",
      "INFO : 2025-08-11 17:07:50,840 : Memory usage at after processing: 4271.0 MB\n",
      "INFO : 2025-08-11 17:07:50,840 : Processing outputs/SAC/2016.267/RO.VOIR..HH?.sac: 2/8 | Directory: 1/3\n"
     ]
    },
    {
     "name": "stdout",
     "output_type": "stream",
     "text": [
      "Time taken for prediction: 79.89058\n"
     ]
    },
    {
     "name": "stderr",
     "output_type": "stream",
     "text": [
      "INFO : 2025-08-11 17:09:11,266 : Saved picks to outputs/redpan_picks/2016/267/picks_RO.GHRR..HN.csv\n",
      "INFO : 2025-08-11 17:09:11,266 : Memory usage at after processing: 4420.0 MB\n",
      "INFO : 2025-08-11 17:09:11,266 : Processing outputs/SAC/2016.267/RO.PLOR7..HH?.sac: 3/7 | Directory: 1/3\n"
     ]
    },
    {
     "name": "stdout",
     "output_type": "stream",
     "text": [
      "Time taken for prediction: 80.619162\n"
     ]
    },
    {
     "name": "stderr",
     "output_type": "stream",
     "text": [
      "INFO : 2025-08-11 17:09:12,036 : Saved picks to outputs/redpan_picks/2016/267/picks_RO.MLR..HN.csv\n",
      "INFO : 2025-08-11 17:09:12,037 : Memory usage at after processing: 4402.0 MB\n",
      "INFO : 2025-08-11 17:09:12,037 : Processing outputs/SAC/2016.267/RO.PLOR4..HN?.sac: 5/8 | Directory: 1/3\n"
     ]
    },
    {
     "name": "stdout",
     "output_type": "stream",
     "text": [
      "Time taken for prediction: 80.883359\n"
     ]
    },
    {
     "name": "stderr",
     "output_type": "stream",
     "text": [
      "INFO : 2025-08-11 17:09:12,553 : Saved picks to outputs/redpan_picks/2016/267/picks_RO.VOIR..HH.csv\n",
      "INFO : 2025-08-11 17:09:12,553 : Memory usage at after processing: 4428.3 MB\n",
      "INFO : 2025-08-11 17:09:12,553 : Processing outputs/SAC/2016.267/RO.SULR..HN?.sac: 3/8 | Directory: 1/3\n"
     ]
    },
    {
     "name": "stdout",
     "output_type": "stream",
     "text": [
      "Time taken for prediction: 81.663562\n"
     ]
    },
    {
     "name": "stderr",
     "output_type": "stream",
     "text": [
      "INFO : 2025-08-11 17:10:33,747 : Saved picks to outputs/redpan_picks/2016/267/picks_RO.PLOR7..HH.csv\n",
      "INFO : 2025-08-11 17:10:33,747 : Memory usage at after processing: 4528.2 MB\n",
      "INFO : 2025-08-11 17:10:33,748 : Processing outputs/SAC/2016.267/RO.PLOR4..HH?.sac: 4/7 | Directory: 1/3\n"
     ]
    },
    {
     "name": "stdout",
     "output_type": "stream",
     "text": [
      "Time taken for prediction: 81.43849\n",
      "Time taken for prediction: 81.900177\n"
     ]
    },
    {
     "name": "stderr",
     "output_type": "stream",
     "text": [
      "INFO : 2025-08-11 17:10:34,956 : Saved picks to outputs/redpan_picks/2016/267/picks_RO.SULR..HN.csv\n",
      "INFO : 2025-08-11 17:10:34,956 : Memory usage at after processing: 4528.4 MB\n",
      "INFO : 2025-08-11 17:10:34,956 : Processing outputs/SAC/2016.267/RO.PLOR3..HH?.sac: 4/8 | Directory: 1/3\n",
      "INFO : 2025-08-11 17:10:34,986 : Saved picks to outputs/redpan_picks/2016/267/picks_RO.PLOR4..HN.csv\n",
      "INFO : 2025-08-11 17:10:34,986 : Memory usage at after processing: 4520.6 MB\n",
      "INFO : 2025-08-11 17:10:34,986 : Processing outputs/SAC/2016.267/RO.PLOR5..HH?.sac: 6/8 | Directory: 1/3\n"
     ]
    },
    {
     "name": "stdout",
     "output_type": "stream",
     "text": [
      "Time taken for prediction: 80.769016\n"
     ]
    },
    {
     "name": "stderr",
     "output_type": "stream",
     "text": [
      "INFO : 2025-08-11 17:11:55,507 : Saved picks to outputs/redpan_picks/2016/267/picks_RO.PLOR4..HH.csv\n",
      "INFO : 2025-08-11 17:11:55,507 : Memory usage at after processing: 4651.4 MB\n",
      "INFO : 2025-08-11 17:11:55,507 : Processing outputs/SAC/2016.267/RO.VRI..HH?.sac: 5/7 | Directory: 1/3\n"
     ]
    },
    {
     "name": "stdout",
     "output_type": "stream",
     "text": [
      "Time taken for prediction: 80.999915\n",
      "Time taken for prediction: 81.044313\n"
     ]
    },
    {
     "name": "stderr",
     "output_type": "stream",
     "text": [
      "INFO : 2025-08-11 17:11:56,974 : Saved picks to outputs/redpan_picks/2016/267/picks_RO.PLOR3..HH.csv\n",
      "INFO : 2025-08-11 17:11:56,975 : Memory usage at after processing: 4665.0 MB\n",
      "INFO : 2025-08-11 17:11:56,975 : Processing outputs/SAC/2016.267/RO.SLCR..HN?.sac: 5/8 | Directory: 1/3\n",
      "INFO : 2025-08-11 17:11:57,126 : Saved picks to outputs/redpan_picks/2016/267/picks_RO.PLOR5..HH.csv\n",
      "INFO : 2025-08-11 17:11:57,126 : Memory usage at after processing: 4648.4 MB\n",
      "INFO : 2025-08-11 17:11:57,126 : Processing outputs/SAC/2016.267/RO.VOIR..HN?.sac: 7/8 | Directory: 1/3\n"
     ]
    },
    {
     "name": "stdout",
     "output_type": "stream",
     "text": [
      "Time taken for prediction: 79.241888\n"
     ]
    },
    {
     "name": "stderr",
     "output_type": "stream",
     "text": [
      "INFO : 2025-08-11 17:13:15,547 : Saved picks to outputs/redpan_picks/2016/267/picks_RO.VRI..HH.csv\n",
      "INFO : 2025-08-11 17:13:15,547 : Memory usage at after processing: 4802.9 MB\n",
      "INFO : 2025-08-11 17:13:15,548 : Processing outputs/SAC/2016.267/RO.VRI..EH?.sac: 6/7 | Directory: 1/3\n"
     ]
    },
    {
     "name": "stdout",
     "output_type": "stream",
     "text": [
      "Time taken for prediction: 79.38593\n"
     ]
    },
    {
     "name": "stderr",
     "output_type": "stream",
     "text": [
      "INFO : 2025-08-11 17:13:17,340 : Saved picks to outputs/redpan_picks/2016/267/picks_RO.SLCR..HN.csv\n",
      "INFO : 2025-08-11 17:13:17,341 : Memory usage at after processing: 4785.1 MB\n",
      "INFO : 2025-08-11 17:13:17,341 : Processing outputs/SAC/2016.267/RO.MLR..HH?.sac: 6/8 | Directory: 1/3\n"
     ]
    },
    {
     "name": "stdout",
     "output_type": "stream",
     "text": [
      "Time taken for prediction: 79.743928\n"
     ]
    },
    {
     "name": "stderr",
     "output_type": "stream",
     "text": [
      "INFO : 2025-08-11 17:13:17,880 : Saved picks to outputs/redpan_picks/2016/267/picks_RO.VOIR..HN.csv\n",
      "INFO : 2025-08-11 17:13:17,880 : Memory usage at after processing: 4785.8 MB\n",
      "INFO : 2025-08-11 17:13:17,880 : Processing outputs/SAC/2016.267/RO.GHRR..HH?.sac: 8/8 | Directory: 1/3\n"
     ]
    },
    {
     "name": "stdout",
     "output_type": "stream",
     "text": [
      "Time taken for prediction: 81.929973\n"
     ]
    },
    {
     "name": "stderr",
     "output_type": "stream",
     "text": [
      "INFO : 2025-08-11 17:14:38,224 : Saved picks to outputs/redpan_picks/2016/267/picks_RO.VRI..EH.csv\n",
      "INFO : 2025-08-11 17:14:38,225 : Memory usage at after processing: 4920.7 MB\n",
      "INFO : 2025-08-11 17:14:38,225 : Processing outputs/SAC/2016.267/RO.MLR..EH?.sac: 7/7 | Directory: 1/3\n"
     ]
    },
    {
     "name": "stdout",
     "output_type": "stream",
     "text": [
      "Time taken for prediction: 81.643464\n"
     ]
    },
    {
     "name": "stderr",
     "output_type": "stream",
     "text": [
      "INFO : 2025-08-11 17:14:40,486 : Saved picks to outputs/redpan_picks/2016/267/picks_RO.GHRR..HH.csv\n",
      "INFO : 2025-08-11 17:14:40,486 : Memory usage at after processing: 4917.7 MB\n",
      "INFO : 2025-08-11 17:14:40,487 : Processing outputs/SAC/2016.268/RO.PLOR2..HH?.sac: 1/8 | Directory: 2/3\n"
     ]
    },
    {
     "name": "stdout",
     "output_type": "stream",
     "text": [
      "Directory: 2/3: outputs/SAC/2016.268\n",
      "Time taken for prediction: 82.561267\n"
     ]
    },
    {
     "name": "stderr",
     "output_type": "stream",
     "text": [
      "INFO : 2025-08-11 17:14:40,855 : Saved picks to outputs/redpan_picks/2016/267/picks_RO.MLR..HH.csv\n",
      "INFO : 2025-08-11 17:14:40,855 : Memory usage at after processing: 4922.2 MB\n",
      "INFO : 2025-08-11 17:14:40,855 : Processing outputs/SAC/2016.267/RO.VRI..HN?.sac: 7/8 | Directory: 1/3\n"
     ]
    },
    {
     "name": "stdout",
     "output_type": "stream",
     "text": [
      "Time taken for prediction: 83.063763\n"
     ]
    },
    {
     "name": "stderr",
     "output_type": "stream",
     "text": [
      "INFO : 2025-08-11 17:16:02,271 : Saved picks to outputs/redpan_picks/2016/267/picks_RO.MLR..EH.csv\n",
      "INFO : 2025-08-11 17:16:02,272 : Memory usage at after processing: 5044.7 MB\n",
      "INFO : 2025-08-11 17:16:02,272 : Processing outputs/SAC/2016.268/RO.PLOR..EH?.sac: 1/7 | Directory: 2/3\n"
     ]
    },
    {
     "name": "stdout",
     "output_type": "stream",
     "text": [
      "Directory: 2/3: outputs/SAC/2016.268\n",
      "Time taken for prediction: 83.393714\n"
     ]
    },
    {
     "name": "stderr",
     "output_type": "stream",
     "text": [
      "INFO : 2025-08-11 17:16:04,892 : Saved picks to outputs/redpan_picks/2016/268/picks_RO.PLOR2..HH.csv\n",
      "INFO : 2025-08-11 17:16:04,892 : Memory usage at after processing: 5037.1 MB\n",
      "INFO : 2025-08-11 17:16:04,892 : Processing outputs/SAC/2016.268/RO.SULR..HH?.sac: 2/8 | Directory: 2/3\n"
     ]
    },
    {
     "name": "stdout",
     "output_type": "stream",
     "text": [
      "Time taken for prediction: 83.923596\n"
     ]
    },
    {
     "name": "stderr",
     "output_type": "stream",
     "text": [
      "INFO : 2025-08-11 17:16:05,762 : Saved picks to outputs/redpan_picks/2016/267/picks_RO.VRI..HN.csv\n",
      "INFO : 2025-08-11 17:16:05,763 : Memory usage at after processing: 5056.9 MB\n",
      "INFO : 2025-08-11 17:16:05,763 : Processing outputs/SAC/2016.267/RO.PLOR6..HH?.sac: 8/8 | Directory: 1/3\n"
     ]
    },
    {
     "name": "stdout",
     "output_type": "stream",
     "text": [
      "Time taken for prediction: 84.291352\n"
     ]
    },
    {
     "name": "stderr",
     "output_type": "stream",
     "text": [
      "INFO : 2025-08-11 17:17:27,493 : Saved picks to outputs/redpan_picks/2016/268/picks_RO.PLOR..EH.csv\n",
      "INFO : 2025-08-11 17:17:27,494 : Memory usage at after processing: 5176.7 MB\n",
      "INFO : 2025-08-11 17:17:27,494 : Processing outputs/SAC/2016.268/RO.GHRR..HN?.sac: 2/7 | Directory: 2/3\n"
     ]
    },
    {
     "name": "stdout",
     "output_type": "stream",
     "text": [
      "Time taken for prediction: 84.471367\n"
     ]
    },
    {
     "name": "stderr",
     "output_type": "stream",
     "text": [
      "INFO : 2025-08-11 17:17:30,566 : Saved picks to outputs/redpan_picks/2016/268/picks_RO.SULR..HH.csv\n",
      "INFO : 2025-08-11 17:17:30,567 : Memory usage at after processing: 5171.5 MB\n",
      "INFO : 2025-08-11 17:17:30,567 : Processing outputs/SAC/2016.268/RO.PLOR1..HH?.sac: 3/8 | Directory: 2/3\n"
     ]
    },
    {
     "name": "stdout",
     "output_type": "stream",
     "text": [
      "Time taken for prediction: 84.381262\n"
     ]
    },
    {
     "name": "stderr",
     "output_type": "stream",
     "text": [
      "INFO : 2025-08-11 17:17:31,180 : Saved picks to outputs/redpan_picks/2016/267/picks_RO.PLOR6..HH.csv\n",
      "INFO : 2025-08-11 17:17:31,181 : Memory usage at after processing: 5170.4 MB\n",
      "INFO : 2025-08-11 17:17:31,182 : Processing outputs/SAC/2016.268/RO.SLCR..HH?.sac: 1/8 | Directory: 2/3\n"
     ]
    },
    {
     "name": "stdout",
     "output_type": "stream",
     "text": [
      "Directory: 2/3: outputs/SAC/2016.268\n",
      "Time taken for prediction: 84.053994\n"
     ]
    },
    {
     "name": "stderr",
     "output_type": "stream",
     "text": [
      "INFO : 2025-08-11 17:18:52,659 : Saved picks to outputs/redpan_picks/2016/268/picks_RO.GHRR..HN.csv\n",
      "INFO : 2025-08-11 17:18:52,659 : Memory usage at after processing: 5299.9 MB\n",
      "INFO : 2025-08-11 17:18:52,659 : Processing outputs/SAC/2016.268/RO.PLOR7..HH?.sac: 3/7 | Directory: 2/3\n"
     ]
    },
    {
     "name": "stdout",
     "output_type": "stream",
     "text": [
      "Time taken for prediction: 83.550883\n"
     ]
    },
    {
     "name": "stderr",
     "output_type": "stream",
     "text": [
      "INFO : 2025-08-11 17:18:55,199 : Saved picks to outputs/redpan_picks/2016/268/picks_RO.PLOR1..HH.csv\n",
      "INFO : 2025-08-11 17:18:55,200 : Memory usage at after processing: 5296.9 MB\n",
      "INFO : 2025-08-11 17:18:55,200 : Processing outputs/SAC/2016.268/RO.MLR..HN?.sac: 4/8 | Directory: 2/3\n"
     ]
    },
    {
     "name": "stdout",
     "output_type": "stream",
     "text": [
      "Time taken for prediction: 83.206778\n"
     ]
    },
    {
     "name": "stderr",
     "output_type": "stream",
     "text": [
      "INFO : 2025-08-11 17:18:55,490 : Saved picks to outputs/redpan_picks/2016/268/picks_RO.SLCR..HH.csv\n",
      "INFO : 2025-08-11 17:18:55,491 : Memory usage at after processing: 5305.9 MB\n",
      "INFO : 2025-08-11 17:18:55,491 : Processing outputs/SAC/2016.268/RO.VOIR..HH?.sac: 2/8 | Directory: 2/3\n"
     ]
    },
    {
     "name": "stdout",
     "output_type": "stream",
     "text": [
      "Time taken for prediction: 81.797958\n"
     ]
    },
    {
     "name": "stderr",
     "output_type": "stream",
     "text": [
      "INFO : 2025-08-11 17:20:15,424 : Saved picks to outputs/redpan_picks/2016/268/picks_RO.PLOR7..HH.csv\n",
      "INFO : 2025-08-11 17:20:15,424 : Memory usage at after processing: 5424.0 MB\n",
      "INFO : 2025-08-11 17:20:15,424 : Processing outputs/SAC/2016.268/RO.PLOR4..HH?.sac: 4/7 | Directory: 2/3\n"
     ]
    },
    {
     "name": "stdout",
     "output_type": "stream",
     "text": [
      "Time taken for prediction: 81.604547\n"
     ]
    },
    {
     "name": "stderr",
     "output_type": "stream",
     "text": [
      "INFO : 2025-08-11 17:20:17,793 : Saved picks to outputs/redpan_picks/2016/268/picks_RO.MLR..HN.csv\n",
      "INFO : 2025-08-11 17:20:17,794 : Memory usage at after processing: 5423.8 MB\n",
      "INFO : 2025-08-11 17:20:17,794 : Processing outputs/SAC/2016.268/RO.PLOR4..HN?.sac: 5/8 | Directory: 2/3\n"
     ]
    },
    {
     "name": "stdout",
     "output_type": "stream",
     "text": [
      "Time taken for prediction: 81.680093\n"
     ]
    },
    {
     "name": "stderr",
     "output_type": "stream",
     "text": [
      "INFO : 2025-08-11 17:20:18,130 : Saved picks to outputs/redpan_picks/2016/268/picks_RO.VOIR..HH.csv\n",
      "INFO : 2025-08-11 17:20:18,130 : Memory usage at after processing: 5432.2 MB\n",
      "INFO : 2025-08-11 17:20:18,130 : Processing outputs/SAC/2016.268/RO.SULR..HN?.sac: 3/8 | Directory: 2/3\n"
     ]
    },
    {
     "name": "stdout",
     "output_type": "stream",
     "text": [
      "Time taken for prediction: 83.210873\n"
     ]
    },
    {
     "name": "stderr",
     "output_type": "stream",
     "text": [
      "INFO : 2025-08-11 17:21:39,563 : Saved picks to outputs/redpan_picks/2016/268/picks_RO.PLOR4..HH.csv\n",
      "INFO : 2025-08-11 17:21:39,563 : Memory usage at after processing: 5546.6 MB\n",
      "INFO : 2025-08-11 17:21:39,563 : Processing outputs/SAC/2016.268/RO.VRI..HH?.sac: 5/7 | Directory: 2/3\n"
     ]
    },
    {
     "name": "stdout",
     "output_type": "stream",
     "text": [
      "Time taken for prediction: 83.7206\n"
     ]
    },
    {
     "name": "stderr",
     "output_type": "stream",
     "text": [
      "INFO : 2025-08-11 17:21:42,509 : Saved picks to outputs/redpan_picks/2016/268/picks_RO.PLOR4..HN.csv\n",
      "INFO : 2025-08-11 17:21:42,509 : Memory usage at after processing: 5568.0 MB\n",
      "INFO : 2025-08-11 17:21:42,509 : Processing outputs/SAC/2016.268/RO.PLOR5..HH?.sac: 6/8 | Directory: 2/3\n"
     ]
    },
    {
     "name": "stdout",
     "output_type": "stream",
     "text": [
      "Time taken for prediction: 83.692456\n"
     ]
    },
    {
     "name": "stderr",
     "output_type": "stream",
     "text": [
      "INFO : 2025-08-11 17:21:42,794 : Saved picks to outputs/redpan_picks/2016/268/picks_RO.SULR..HN.csv\n",
      "INFO : 2025-08-11 17:21:42,794 : Memory usage at after processing: 5553.4 MB\n",
      "INFO : 2025-08-11 17:21:42,795 : Processing outputs/SAC/2016.268/RO.PLOR3..HH?.sac: 4/8 | Directory: 2/3\n"
     ]
    },
    {
     "name": "stdout",
     "output_type": "stream",
     "text": [
      "Time taken for prediction: 82.164175\n"
     ]
    },
    {
     "name": "stderr",
     "output_type": "stream",
     "text": [
      "INFO : 2025-08-11 17:23:02,802 : Saved picks to outputs/redpan_picks/2016/268/picks_RO.VRI..HH.csv\n",
      "INFO : 2025-08-11 17:23:02,817 : Memory usage at after processing: 5681.6 MB\n",
      "INFO : 2025-08-11 17:23:02,817 : Processing outputs/SAC/2016.268/RO.VRI..EH?.sac: 6/7 | Directory: 2/3\n"
     ]
    },
    {
     "name": "stdout",
     "output_type": "stream",
     "text": [
      "Time taken for prediction: 82.005255\n",
      "Time taken for prediction: 82.254472\n"
     ]
    },
    {
     "name": "stderr",
     "output_type": "stream",
     "text": [
      "INFO : 2025-08-11 17:23:05,757 : Saved picks to outputs/redpan_picks/2016/268/picks_RO.PLOR3..HH.csv\n",
      "INFO : 2025-08-11 17:23:05,757 : Memory usage at after processing: 5681.6 MB\n",
      "INFO : 2025-08-11 17:23:05,757 : Processing outputs/SAC/2016.268/RO.SLCR..HN?.sac: 5/8 | Directory: 2/3\n",
      "INFO : 2025-08-11 17:23:05,794 : Saved picks to outputs/redpan_picks/2016/268/picks_RO.PLOR5..HH.csv\n",
      "INFO : 2025-08-11 17:23:05,794 : Memory usage at after processing: 5680.8 MB\n",
      "INFO : 2025-08-11 17:23:05,794 : Processing outputs/SAC/2016.268/RO.VOIR..HN?.sac: 7/8 | Directory: 2/3\n"
     ]
    },
    {
     "name": "stdout",
     "output_type": "stream",
     "text": [
      "Time taken for prediction: 82.426199\n"
     ]
    },
    {
     "name": "stderr",
     "output_type": "stream",
     "text": [
      "INFO : 2025-08-11 17:24:26,000 : Saved picks to outputs/redpan_picks/2016/268/picks_RO.VRI..EH.csv\n",
      "INFO : 2025-08-11 17:24:26,000 : Memory usage at after processing: 5801.9 MB\n",
      "INFO : 2025-08-11 17:24:26,000 : Processing outputs/SAC/2016.268/RO.MLR..EH?.sac: 7/7 | Directory: 2/3\n"
     ]
    },
    {
     "name": "stdout",
     "output_type": "stream",
     "text": [
      "Time taken for prediction: 82.108954\n"
     ]
    },
    {
     "name": "stderr",
     "output_type": "stream",
     "text": [
      "INFO : 2025-08-11 17:24:28,922 : Saved picks to outputs/redpan_picks/2016/268/picks_RO.SLCR..HN.csv\n",
      "INFO : 2025-08-11 17:24:28,922 : Memory usage at after processing: 5799.1 MB\n",
      "INFO : 2025-08-11 17:24:28,922 : Processing outputs/SAC/2016.268/RO.MLR..HH?.sac: 6/8 | Directory: 2/3\n"
     ]
    },
    {
     "name": "stdout",
     "output_type": "stream",
     "text": [
      "Time taken for prediction: 82.397053\n",
      "No pair for RO.VOIR..HN after checking phase-time orders\n"
     ]
    },
    {
     "name": "stderr",
     "output_type": "stream",
     "text": [
      "INFO : 2025-08-11 17:24:29,238 : Saved picks to outputs/redpan_picks/2016/268/picks_RO.VOIR..HN.csv\n",
      "INFO : 2025-08-11 17:24:29,238 : Memory usage at after processing: 5806.3 MB\n",
      "INFO : 2025-08-11 17:24:29,238 : Processing outputs/SAC/2016.268/RO.GHRR..HH?.sac: 8/8 | Directory: 2/3\n"
     ]
    },
    {
     "name": "stdout",
     "output_type": "stream",
     "text": [
      "Time taken for prediction: 82.038614\n"
     ]
    },
    {
     "name": "stderr",
     "output_type": "stream",
     "text": [
      "INFO : 2025-08-11 17:25:48,972 : Saved picks to outputs/redpan_picks/2016/268/picks_RO.MLR..EH.csv\n",
      "INFO : 2025-08-11 17:25:48,972 : Memory usage at after processing: 5940.4 MB\n",
      "INFO : 2025-08-11 17:25:48,973 : Processing outputs/SAC/2016.269/RO.PLOR..EH?.sac: 1/7 | Directory: 3/3\n"
     ]
    },
    {
     "name": "stdout",
     "output_type": "stream",
     "text": [
      "Directory: 3/3: outputs/SAC/2016.269\n",
      "Time taken for prediction: 82.266089\n",
      "Time taken for prediction: 82.613192\n"
     ]
    },
    {
     "name": "stderr",
     "output_type": "stream",
     "text": [
      "INFO : 2025-08-11 17:25:52,458 : Saved picks to outputs/redpan_picks/2016/268/picks_RO.GHRR..HH.csv\n",
      "INFO : 2025-08-11 17:25:52,458 : Memory usage at after processing: 5941.7 MB\n",
      "INFO : 2025-08-11 17:25:52,459 : Processing outputs/SAC/2016.269/RO.PLOR2..HH?.sac: 1/8 | Directory: 3/3\n",
      "INFO : 2025-08-11 17:25:52,550 : Saved picks to outputs/redpan_picks/2016/268/picks_RO.MLR..HH.csv\n",
      "INFO : 2025-08-11 17:25:52,550 : Memory usage at after processing: 5929.5 MB\n",
      "INFO : 2025-08-11 17:25:52,551 : Processing outputs/SAC/2016.268/RO.VRI..HN?.sac: 7/8 | Directory: 2/3\n"
     ]
    },
    {
     "name": "stdout",
     "output_type": "stream",
     "text": [
      "Directory: 3/3: outputs/SAC/2016.269\n",
      "Time taken for prediction: 81.210435\n"
     ]
    },
    {
     "name": "stderr",
     "output_type": "stream",
     "text": [
      "INFO : 2025-08-11 17:27:11,084 : Saved picks to outputs/redpan_picks/2016/269/picks_RO.PLOR..EH.csv\n",
      "INFO : 2025-08-11 17:27:11,084 : Memory usage at after processing: 6068.4 MB\n",
      "INFO : 2025-08-11 17:27:11,084 : Processing outputs/SAC/2016.269/RO.GHRR..HN?.sac: 2/7 | Directory: 3/3\n"
     ]
    },
    {
     "name": "stdout",
     "output_type": "stream",
     "text": [
      "Time taken for prediction: 81.638154\n"
     ]
    },
    {
     "name": "stderr",
     "output_type": "stream",
     "text": [
      "INFO : 2025-08-11 17:27:15,185 : Saved picks to outputs/redpan_picks/2016/269/picks_RO.PLOR2..HH.csv\n",
      "INFO : 2025-08-11 17:27:15,185 : Memory usage at after processing: 6057.6 MB\n",
      "INFO : 2025-08-11 17:27:15,185 : Processing outputs/SAC/2016.269/RO.SULR..HH?.sac: 2/8 | Directory: 3/3\n"
     ]
    },
    {
     "name": "stdout",
     "output_type": "stream",
     "text": [
      "Time taken for prediction: 81.827447\n",
      "No pair for RO.VRI..HN after checking phase-time orders\n"
     ]
    },
    {
     "name": "stderr",
     "output_type": "stream",
     "text": [
      "INFO : 2025-08-11 17:27:15,433 : Saved picks to outputs/redpan_picks/2016/268/picks_RO.VRI..HN.csv\n",
      "INFO : 2025-08-11 17:27:15,434 : Memory usage at after processing: 6052.5 MB\n",
      "INFO : 2025-08-11 17:27:15,434 : Processing outputs/SAC/2016.268/RO.PLOR6..HH?.sac: 8/8 | Directory: 2/3\n"
     ]
    },
    {
     "name": "stdout",
     "output_type": "stream",
     "text": [
      "Time taken for prediction: 82.852355\n"
     ]
    },
    {
     "name": "stderr",
     "output_type": "stream",
     "text": [
      "INFO : 2025-08-11 17:28:34,877 : Saved picks to outputs/redpan_picks/2016/269/picks_RO.GHRR..HN.csv\n",
      "INFO : 2025-08-11 17:28:34,877 : Memory usage at after processing: 6187.4 MB\n",
      "INFO : 2025-08-11 17:28:34,878 : Processing outputs/SAC/2016.269/RO.PLOR7..HH?.sac: 3/7 | Directory: 3/3\n"
     ]
    },
    {
     "name": "stdout",
     "output_type": "stream",
     "text": [
      "Time taken for prediction: 81.621909\n"
     ]
    },
    {
     "name": "stderr",
     "output_type": "stream",
     "text": [
      "INFO : 2025-08-11 17:28:37,815 : Saved picks to outputs/redpan_picks/2016/269/picks_RO.SULR..HH.csv\n",
      "INFO : 2025-08-11 17:28:37,816 : Memory usage at after processing: 6194.2 MB\n",
      "INFO : 2025-08-11 17:28:37,816 : Processing outputs/SAC/2016.269/RO.PLOR1..HH?.sac: 3/8 | Directory: 3/3\n"
     ]
    },
    {
     "name": "stdout",
     "output_type": "stream",
     "text": [
      "Time taken for prediction: 82.220881\n"
     ]
    },
    {
     "name": "stderr",
     "output_type": "stream",
     "text": [
      "INFO : 2025-08-11 17:28:38,668 : Saved picks to outputs/redpan_picks/2016/268/picks_RO.PLOR6..HH.csv\n",
      "INFO : 2025-08-11 17:28:38,668 : Memory usage at after processing: 6192.0 MB\n",
      "INFO : 2025-08-11 17:28:38,669 : Processing outputs/SAC/2016.269/RO.SLCR..HH?.sac: 1/8 | Directory: 3/3\n"
     ]
    },
    {
     "name": "stdout",
     "output_type": "stream",
     "text": [
      "Directory: 3/3: outputs/SAC/2016.269\n",
      "Time taken for prediction: 81.442229\n"
     ]
    },
    {
     "name": "stderr",
     "output_type": "stream",
     "text": [
      "INFO : 2025-08-11 17:29:57,256 : Saved picks to outputs/redpan_picks/2016/269/picks_RO.PLOR7..HH.csv\n",
      "INFO : 2025-08-11 17:29:57,256 : Memory usage at after processing: 6327.2 MB\n",
      "INFO : 2025-08-11 17:29:57,256 : Processing outputs/SAC/2016.269/RO.PLOR4..HH?.sac: 4/7 | Directory: 3/3\n"
     ]
    },
    {
     "name": "stdout",
     "output_type": "stream",
     "text": [
      "Time taken for prediction: 81.687622\n"
     ]
    },
    {
     "name": "stderr",
     "output_type": "stream",
     "text": [
      "INFO : 2025-08-11 17:30:00,518 : Saved picks to outputs/redpan_picks/2016/269/picks_RO.PLOR1..HH.csv\n",
      "INFO : 2025-08-11 17:30:00,518 : Memory usage at after processing: 6317.4 MB\n",
      "INFO : 2025-08-11 17:30:00,518 : Processing outputs/SAC/2016.269/RO.MLR..HN?.sac: 4/8 | Directory: 3/3\n"
     ]
    },
    {
     "name": "stdout",
     "output_type": "stream",
     "text": [
      "Time taken for prediction: 82.064765\n"
     ]
    },
    {
     "name": "stderr",
     "output_type": "stream",
     "text": [
      "INFO : 2025-08-11 17:30:01,788 : Saved picks to outputs/redpan_picks/2016/269/picks_RO.SLCR..HH.csv\n",
      "INFO : 2025-08-11 17:30:01,789 : Memory usage at after processing: 6320.4 MB\n",
      "INFO : 2025-08-11 17:30:01,789 : Processing outputs/SAC/2016.269/RO.VOIR..HH?.sac: 2/8 | Directory: 3/3\n"
     ]
    },
    {
     "name": "stdout",
     "output_type": "stream",
     "text": [
      "Time taken for prediction: 84.750438\n"
     ]
    },
    {
     "name": "stderr",
     "output_type": "stream",
     "text": [
      "INFO : 2025-08-11 17:31:22,997 : Saved picks to outputs/redpan_picks/2016/269/picks_RO.PLOR4..HH.csv\n",
      "INFO : 2025-08-11 17:31:22,997 : Memory usage at after processing: 6449.3 MB\n",
      "INFO : 2025-08-11 17:31:22,997 : Processing outputs/SAC/2016.269/RO.VRI..HH?.sac: 5/7 | Directory: 3/3\n"
     ]
    },
    {
     "name": "stdout",
     "output_type": "stream",
     "text": [
      "Time taken for prediction: 84.860934\n",
      "No pair for RO.MLR..HN after checking phase-time orders\n"
     ]
    },
    {
     "name": "stderr",
     "output_type": "stream",
     "text": [
      "INFO : 2025-08-11 17:31:26,323 : Saved picks to outputs/redpan_picks/2016/269/picks_RO.MLR..HN.csv\n",
      "INFO : 2025-08-11 17:31:26,323 : Memory usage at after processing: 6454.7 MB\n",
      "INFO : 2025-08-11 17:31:26,323 : Processing outputs/SAC/2016.269/RO.PLOR4..HN?.sac: 5/8 | Directory: 3/3\n"
     ]
    },
    {
     "name": "stdout",
     "output_type": "stream",
     "text": [
      "Time taken for prediction: 85.082889\n"
     ]
    },
    {
     "name": "stderr",
     "output_type": "stream",
     "text": [
      "INFO : 2025-08-11 17:31:27,836 : Saved picks to outputs/redpan_picks/2016/269/picks_RO.VOIR..HH.csv\n",
      "INFO : 2025-08-11 17:31:27,836 : Memory usage at after processing: 6438.1 MB\n",
      "INFO : 2025-08-11 17:31:27,836 : Processing outputs/SAC/2016.269/RO.SULR..HN?.sac: 3/8 | Directory: 3/3\n"
     ]
    },
    {
     "name": "stdout",
     "output_type": "stream",
     "text": [
      "Time taken for prediction: 82.683201\n"
     ]
    },
    {
     "name": "stderr",
     "output_type": "stream",
     "text": [
      "INFO : 2025-08-11 17:32:46,684 : Saved picks to outputs/redpan_picks/2016/269/picks_RO.VRI..HH.csv\n",
      "INFO : 2025-08-11 17:32:46,685 : Memory usage at after processing: 6567.8 MB\n",
      "INFO : 2025-08-11 17:32:46,685 : Processing outputs/SAC/2016.269/RO.VRI..EH?.sac: 6/7 | Directory: 3/3\n"
     ]
    },
    {
     "name": "stdout",
     "output_type": "stream",
     "text": [
      "Time taken for prediction: 82.982804\n"
     ]
    },
    {
     "name": "stderr",
     "output_type": "stream",
     "text": [
      "INFO : 2025-08-11 17:32:50,403 : Saved picks to outputs/redpan_picks/2016/269/picks_RO.PLOR4..HN.csv\n",
      "INFO : 2025-08-11 17:32:50,404 : Memory usage at after processing: 6578.4 MB\n",
      "INFO : 2025-08-11 17:32:50,404 : Processing outputs/SAC/2016.269/RO.PLOR5..HH?.sac: 6/8 | Directory: 3/3\n"
     ]
    },
    {
     "name": "stdout",
     "output_type": "stream",
     "text": [
      "Time taken for prediction: 81.939713\n"
     ]
    },
    {
     "name": "stderr",
     "output_type": "stream",
     "text": [
      "INFO : 2025-08-11 17:32:50,763 : Saved picks to outputs/redpan_picks/2016/269/picks_RO.SULR..HN.csv\n",
      "INFO : 2025-08-11 17:32:50,763 : Memory usage at after processing: 6567.6 MB\n",
      "INFO : 2025-08-11 17:32:50,763 : Processing outputs/SAC/2016.269/RO.PLOR3..HH?.sac: 4/8 | Directory: 3/3\n"
     ]
    },
    {
     "name": "stdout",
     "output_type": "stream",
     "text": [
      "Time taken for prediction: 82.923735\n"
     ]
    },
    {
     "name": "stderr",
     "output_type": "stream",
     "text": [
      "INFO : 2025-08-11 17:34:10,419 : Saved picks to outputs/redpan_picks/2016/269/picks_RO.VRI..EH.csv\n",
      "INFO : 2025-08-11 17:34:10,419 : Memory usage at after processing: 6694.5 MB\n",
      "INFO : 2025-08-11 17:34:10,419 : Processing outputs/SAC/2016.269/RO.MLR..EH?.sac: 7/7 | Directory: 3/3\n"
     ]
    },
    {
     "name": "stdout",
     "output_type": "stream",
     "text": [
      "Time taken for prediction: 82.505166\n"
     ]
    },
    {
     "name": "stderr",
     "output_type": "stream",
     "text": [
      "INFO : 2025-08-11 17:34:13,931 : Saved picks to outputs/redpan_picks/2016/269/picks_RO.PLOR5..HH.csv\n",
      "INFO : 2025-08-11 17:34:13,932 : Memory usage at after processing: 6704.1 MB\n",
      "INFO : 2025-08-11 17:34:13,932 : Processing outputs/SAC/2016.269/RO.VOIR..HN?.sac: 7/8 | Directory: 3/3\n"
     ]
    },
    {
     "name": "stdout",
     "output_type": "stream",
     "text": [
      "Time taken for prediction: 83.295373\n"
     ]
    },
    {
     "name": "stderr",
     "output_type": "stream",
     "text": [
      "INFO : 2025-08-11 17:34:15,008 : Saved picks to outputs/redpan_picks/2016/269/picks_RO.PLOR3..HH.csv\n",
      "INFO : 2025-08-11 17:34:15,008 : Memory usage at after processing: 6706.8 MB\n",
      "INFO : 2025-08-11 17:34:15,008 : Processing outputs/SAC/2016.269/RO.SLCR..HN?.sac: 5/8 | Directory: 3/3\n"
     ]
    },
    {
     "name": "stdout",
     "output_type": "stream",
     "text": [
      "Time taken for prediction: 82.842786\n"
     ]
    },
    {
     "name": "stderr",
     "output_type": "stream",
     "text": [
      "INFO : 2025-08-11 17:35:34,191 : Saved picks to outputs/redpan_picks/2016/269/picks_RO.MLR..EH.csv\n",
      "INFO : 2025-08-11 17:35:34,191 : Memory usage at after processing: 6822.2 MB\n"
     ]
    },
    {
     "name": "stdout",
     "output_type": "stream",
     "text": [
      "Time taken for prediction: 83.027133\n",
      "No pair for RO.VOIR..HN after checking phase-time orders\n"
     ]
    },
    {
     "name": "stderr",
     "output_type": "stream",
     "text": [
      "INFO : 2025-08-11 17:35:37,915 : Saved picks to outputs/redpan_picks/2016/269/picks_RO.VOIR..HN.csv\n",
      "INFO : 2025-08-11 17:35:37,916 : Memory usage at after processing: 6837.3 MB\n",
      "INFO : 2025-08-11 17:35:37,916 : Processing outputs/SAC/2016.269/RO.GHRR..HH?.sac: 8/8 | Directory: 3/3\n"
     ]
    },
    {
     "name": "stdout",
     "output_type": "stream",
     "text": [
      "Time taken for prediction: 83.758481\n"
     ]
    },
    {
     "name": "stderr",
     "output_type": "stream",
     "text": [
      "INFO : 2025-08-11 17:35:39,772 : Saved picks to outputs/redpan_picks/2016/269/picks_RO.SLCR..HN.csv\n",
      "INFO : 2025-08-11 17:35:39,773 : Memory usage at after processing: 6830.6 MB\n",
      "INFO : 2025-08-11 17:35:39,773 : Processing outputs/SAC/2016.269/RO.MLR..HH?.sac: 6/8 | Directory: 3/3\n"
     ]
    },
    {
     "name": "stdout",
     "output_type": "stream",
     "text": [
      "Time taken for prediction: 79.908166\n"
     ]
    },
    {
     "name": "stderr",
     "output_type": "stream",
     "text": [
      "INFO : 2025-08-11 17:36:58,791 : Saved picks to outputs/redpan_picks/2016/269/picks_RO.GHRR..HH.csv\n",
      "INFO : 2025-08-11 17:36:58,792 : Memory usage at after processing: 6957.2 MB\n"
     ]
    },
    {
     "name": "stdout",
     "output_type": "stream",
     "text": [
      "Time taken for prediction: 79.656118\n"
     ]
    },
    {
     "name": "stderr",
     "output_type": "stream",
     "text": [
      "INFO : 2025-08-11 17:37:00,394 : Saved picks to outputs/redpan_picks/2016/269/picks_RO.MLR..HH.csv\n",
      "INFO : 2025-08-11 17:37:00,394 : Memory usage at after processing: 6953.0 MB\n",
      "INFO : 2025-08-11 17:37:00,394 : Processing outputs/SAC/2016.269/RO.VRI..HN?.sac: 7/8 | Directory: 3/3\n"
     ]
    },
    {
     "name": "stdout",
     "output_type": "stream",
     "text": [
      "Time taken for prediction: 77.449873\n",
      "No pair for RO.VRI..HN after checking phase-time orders\n"
     ]
    },
    {
     "name": "stderr",
     "output_type": "stream",
     "text": [
      "INFO : 2025-08-11 17:38:18,744 : Saved picks to outputs/redpan_picks/2016/269/picks_RO.VRI..HN.csv\n",
      "INFO : 2025-08-11 17:38:18,744 : Memory usage at after processing: 7086.7 MB\n",
      "INFO : 2025-08-11 17:38:18,744 : Processing outputs/SAC/2016.269/RO.PLOR6..HH?.sac: 8/8 | Directory: 3/3\n"
     ]
    },
    {
     "name": "stdout",
     "output_type": "stream",
     "text": [
      "Time taken for prediction: 77.874926\n"
     ]
    },
    {
     "name": "stderr",
     "output_type": "stream",
     "text": [
      "INFO : 2025-08-11 17:39:37,585 : Saved picks to outputs/redpan_picks/2016/269/picks_RO.PLOR6..HH.csv\n",
      "INFO : 2025-08-11 17:39:37,585 : Memory usage at after processing: 7204.6 MB\n"
     ]
    }
   ],
   "source": [
    "import os\n",
    "\n",
    "if __name__ == \"__main__\":\n",
    "    '''Simple script to run redpan_pick.py in parallel using multiprocessing'''\n",
    "    os.system('python multiprocess_redpan.py')"
   ]
  },
  {
   "cell_type": "code",
   "execution_count": null,
   "id": "e75f8a44",
   "metadata": {},
   "outputs": [],
   "source": []
  }
 ],
 "metadata": {
  "kernelspec": {
   "display_name": "redpan",
   "language": "python",
   "name": "python3"
  },
  "language_info": {
   "codemirror_mode": {
    "name": "ipython",
    "version": 3
   },
   "file_extension": ".py",
   "mimetype": "text/x-python",
   "name": "python",
   "nbconvert_exporter": "python",
   "pygments_lexer": "ipython3",
   "version": "3.10.0"
  }
 },
 "nbformat": 4,
 "nbformat_minor": 5
}
